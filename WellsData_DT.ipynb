{
  "nbformat": 4,
  "nbformat_minor": 0,
  "metadata": {
    "colab": {
      "provenance": []
    },
    "kernelspec": {
      "name": "python3",
      "display_name": "Python 3"
    },
    "language_info": {
      "name": "python"
    }
  },
  "cells": [
    {
      "cell_type": "markdown",
      "source": [
        "The purpose of this project is to use Machine Learning algorithms to predict lithographic Vp values\n",
        "\n",
        "Vp can be defined as the ration of sismic ocmpressional and sheasr-wave velocities (Vp/V8)\n",
        "\n",
        "Sedimentary rock lithology can be implemented to predict which type of rock has hyrdocarbons\n",
        "\n",
        "Use the following well logs 19A, BT2, F1B, and SR, from the well logs use all possible combinations to train with 3 wells and predict Vp with 1 well, evaluate the performance with parameter optimization for the machine learnign algoritms:\n",
        "\n",
        "* MLP (Machine Learning P)\n",
        "* SVM (Support Vector Machine)\n",
        "* Decision Tree\n",
        "* Random Forest\n",
        "\n",
        "Fromt he well log 19A we obtain the following data."
      ],
      "metadata": {
        "id": "Y44JIPMR4AFr"
      }
    },
    {
      "cell_type": "code",
      "source": [
        "import pandas as pd\n",
        "import numpy as np\n",
        "import matplotlib as mpl\n",
        "import matplotlib.pyplot as plt\n",
        "\n",
        "#importing components\n",
        "from sklearn.ensemble import RandomForestRegressor\n",
        "from sklearn import svm\n",
        "from sklearn.svm import SVR\n",
        "from sklearn import preprocessing\n",
        "from sklearn.metrics import r2_score\n",
        "\n",
        "#from mpl_toolkits.axes_grid1 import make_axes_locatable\n",
        "\n",
        "#tensor flow\n",
        "from keras import Sequential\n",
        "from keras.layers import Dense, LSTM\n",
        "from keras.optimizers import SGD\n"
      ],
      "metadata": {
        "id": "AFAuTBUSIJGP"
      },
      "execution_count": 49,
      "outputs": []
    },
    {
      "cell_type": "markdown",
      "source": [
        "### Analyze the data from the 4 wells: 19A, BT2, F1B, SR"
      ],
      "metadata": {
        "id": "Aj3q8kwh4N4q"
      }
    },
    {
      "cell_type": "code",
      "source": [
        "wells = ['19A', 'BT2', 'SR', 'F1B']\n",
        "#wells = ['19A', 'BT2', 'F1B', 'F1B']\n",
        "#wells = ['19A', 'BT2', 'F1B', 'F1B']\n",
        "#wells = ['19A', 'BT2', 'F1B', 'F1B']\n",
        "\n",
        "well_path = '/content/'\n",
        "data_all = []\n",
        "for well in wells:\n",
        "  data_tmp = np.load(well_path + well + '.npy')\n",
        "  data_all.append(data_tmp)\n",
        "idx1 = 0 # 19A is used as the blind test\n",
        "idx2 = 1 # BT2 is used as the blind test\n",
        "N1 = len(data_all[idx1])\n",
        "N2 = len(data_all[idx2])\n",
        "print(N1,N2)\n",
        "#blind_ori = data_all(idx1)\n",
        "#blind_ori = data_all[idx1]\n",
        "\n",
        "data_merge =np.concatenate((data_all[0], data_all[1], data_all[2], data_all[3]), axis=0)  # Merge all well data together\n",
        "print('The merged data shape is:', data_merge.shape)\n",
        "\n",
        "data_nor = preprocessing.StandardScaler().fit(data_merge)\n",
        "data_nor = data_nor.transform(data_merge)\n",
        "\n",
        "print(data_nor.shape)\n",
        "\n",
        "features = data_nor[N1:, 1:7]\n",
        "label_norm = data_nor[N1:, 7]\n",
        "print(features.shape, label_norm.shape )\n",
        "\n",
        "from sklearn.model_selection import train_test_split\n",
        "\n",
        "X_train, X_test, y_train, y_test = train_test_split(features, label_norm, test_size=0.15, random_state=42)\n",
        "print(X_train.shape, X_test.shape, y_train.shape, y_test.shape)\n",
        "\n",
        "#processing for blind data, make sure use the correct label data\n",
        "X_blind = data_nor[0:N1, 1:7]\n",
        "y_blind = data_nor[0:N1, 7]\n",
        "X_train_well = data_nor[N1:N1+N2, 1:7]\n",
        "y_train_well = data_nor[N1:N1+N2, 7]\n",
        "\n",
        "#Processing for blind data for Wells.\n",
        "\n",
        "#X_blind = data_merge[0:N1, 1:7]\n",
        "#y_blind = data_merge[0:N1, 7]\n",
        "#X_train_well = data_merge[N1:N1+N2, 1:7]\n",
        "#y_train_well = data_merge[N1:N1+N2, 7]\n",
        "\n",
        "#X_blind = scaled_features[0:N1, 1:7]\n",
        "#y_blind = scaled_features[0:N1, 7]\n",
        "#X_train_well = scaled_features[N1:N1+N2, 1:7]\n",
        "#y_train_well = scaled_features[N1:N1+N2, 7]"
      ],
      "metadata": {
        "colab": {
          "base_uri": "https://localhost:8080/"
        },
        "id": "X9hEKAE_3fWW",
        "outputId": "12ca264e-a79c-4c68-c7bb-0c7041f60653"
      },
      "execution_count": 50,
      "outputs": [
        {
          "output_type": "stream",
          "name": "stdout",
          "text": [
            "1930 4057\n",
            "The merged data shape is: (9894, 10)\n",
            "(9894, 10)\n",
            "(7964, 6) (7964,)\n",
            "(6769, 6) (1195, 6) (6769,) (1195,)\n"
          ]
        }
      ]
    },
    {
      "cell_type": "markdown",
      "source": [
        "### The merged data shape is:\n",
        "[9894, 10]\n",
        "[7964, 6]\n",
        "[6769, 6]\n",
        "[1195, 6]"
      ],
      "metadata": {
        "id": "-JFFYQPgCcqT"
      }
    },
    {
      "cell_type": "code",
      "source": [
        "print(X_blind.shape, X_train_well.shape, y_train_well.shape, y_blind.shape)"
      ],
      "metadata": {
        "colab": {
          "base_uri": "https://localhost:8080/"
        },
        "id": "ksEAEWT0CVWX",
        "outputId": "d206ed65-3008-4832-c155-5366599206e2"
      },
      "execution_count": 51,
      "outputs": [
        {
          "output_type": "stream",
          "name": "stdout",
          "text": [
            "(1930, 6) (4057, 6) (4057,) (1930,)\n"
          ]
        }
      ]
    },
    {
      "cell_type": "markdown",
      "source": [
        "# Support Vector Machine"
      ],
      "metadata": {
        "id": "2zejlNod4KGV"
      }
    },
    {
      "cell_type": "code",
      "source": [
        "\n",
        "estimator = svm.SVR(kernel='rbf', C=1000.0, epsilon = 0.0001, gamma = 0.0001 )\n",
        "estimator = svm.SVR(shrinking=True, kernel='poly',gamma=0.01, epsilon=1,degree=5, C=10.)\n",
        "estimator.fit(X_train, y_train)\n",
        "y_test_pred = estimator.predict(X_test)\n",
        "y_blind_pred = estimator.predict(X_blind)"
      ],
      "metadata": {
        "id": "uX6SJc-CCbHm"
      },
      "execution_count": 52,
      "outputs": []
    },
    {
      "cell_type": "code",
      "source": [
        "\n",
        "r2_score(y_test_pred, y_test)"
      ],
      "metadata": {
        "colab": {
          "base_uri": "https://localhost:8080/"
        },
        "id": "98EHrXuqDOad",
        "outputId": "11074b29-6f07-448e-8258-efbea916365c"
      },
      "execution_count": 53,
      "outputs": [
        {
          "output_type": "execute_result",
          "data": {
            "text/plain": [
              "-4447.682482801003"
            ]
          },
          "metadata": {},
          "execution_count": 53
        }
      ]
    },
    {
      "cell_type": "code",
      "source": [
        "blind_real = y_blind\n",
        "blind_pred = y_blind_pred"
      ],
      "metadata": {
        "id": "OjNWifThDuXP"
      },
      "execution_count": 54,
      "outputs": []
    },
    {
      "cell_type": "code",
      "source": [
        "min(label_norm)"
      ],
      "metadata": {
        "colab": {
          "base_uri": "https://localhost:8080/"
        },
        "id": "HP6Qpl7VDwxI",
        "outputId": "8a45410d-b390-4518-b26d-9aafab64bf18"
      },
      "execution_count": 55,
      "outputs": [
        {
          "output_type": "execute_result",
          "data": {
            "text/plain": [
              "-2.3041850719086074"
            ]
          },
          "metadata": {},
          "execution_count": 55
        }
      ]
    },
    {
      "cell_type": "code",
      "source": [
        "min(y_blind)"
      ],
      "metadata": {
        "colab": {
          "base_uri": "https://localhost:8080/"
        },
        "id": "x0xDYgm7DyM0",
        "outputId": "7215d1eb-1de8-43ad-baff-5f055c52c7ba"
      },
      "execution_count": 56,
      "outputs": [
        {
          "output_type": "execute_result",
          "data": {
            "text/plain": [
              "-2.4222906115525062"
            ]
          },
          "metadata": {},
          "execution_count": 56
        }
      ]
    },
    {
      "cell_type": "code",
      "source": [
        "min(blind_real)"
      ],
      "metadata": {
        "colab": {
          "base_uri": "https://localhost:8080/"
        },
        "id": "sIHyqljrD095",
        "outputId": "8f9d60bf-82df-4bd5-ec07-28d711bd1ebc"
      },
      "execution_count": 57,
      "outputs": [
        {
          "output_type": "execute_result",
          "data": {
            "text/plain": [
              "-2.4222906115525062"
            ]
          },
          "metadata": {},
          "execution_count": 57
        }
      ]
    },
    {
      "cell_type": "code",
      "source": [
        "\n",
        "r2_score(y_blind, y_blind_pred)"
      ],
      "metadata": {
        "colab": {
          "base_uri": "https://localhost:8080/"
        },
        "id": "viNoADroD3MG",
        "outputId": "9e04de13-91a1-4aa7-83fa-ca2f74128bda"
      },
      "execution_count": 58,
      "outputs": [
        {
          "output_type": "execute_result",
          "data": {
            "text/plain": [
              "0.0020435830913887454"
            ]
          },
          "metadata": {},
          "execution_count": 58
        }
      ]
    },
    {
      "cell_type": "code",
      "source": [
        "ztop = np.min(data_merge[0:N1, 0]) - 2.0\n",
        "zbot = np.max(data_merge[0:N1, 0])\n",
        "print(ztop, zbot)\n",
        "f, bx = plt.subplots(nrows=1, ncols=1)\n",
        "bx.plot(blind_real, data_merge[0:N1, 0], '-', label='Measured', color='black')\n",
        "bx.plot(blind_pred, data_merge[0:N1, 0], '-', label='Predicted', color='r')\n",
        "bx.legend()\n",
        "bx.set_ylim(ztop, zbot)\n",
        "bx.invert_yaxis()\n",
        "#bx.grid()\n",
        "bx.locator_params(axis='x', nbins=5)\n",
        "bx.set_xlabel(\"$V_p$ (Km/s)\")\n",
        "bx.set_ylabel(\"Depth (m)\")\n",
        "#bx.set_xlim(1.5, 3.5)\n",
        "bx.set_xlim(-3, 3)"
      ],
      "metadata": {
        "colab": {
          "base_uri": "https://localhost:8080/",
          "height": 495
        },
        "id": "8gNW7rDfECBE",
        "outputId": "0eef3435-c4eb-4328-9b91-af2cdf1f5e5e"
      },
      "execution_count": 59,
      "outputs": [
        {
          "output_type": "stream",
          "name": "stdout",
          "text": [
            "3498.9326 4085.844\n"
          ]
        },
        {
          "output_type": "execute_result",
          "data": {
            "text/plain": [
              "(-3.0, 3.0)"
            ]
          },
          "metadata": {},
          "execution_count": 59
        },
        {
          "output_type": "display_data",
          "data": {
            "text/plain": [
              "<Figure size 640x480 with 1 Axes>"
            ],
            "image/png": "[encoded data removed]"
          },
          "metadata": {}
        }
      ]
    },
    {
      "cell_type": "code",
      "source": [
        "ztop = np.min(data_merge[0:N2, 0]) - 2.0\n",
        "zbot = np.max(data_merge[0:N2, 0])\n",
        "print(ztop, zbot)\n",
        "f, bx = plt.subplots(nrows=1, ncols=1)\n",
        "bx.plot(blind_real, data_merge[0:N1, 0], '-', label='Measured', color='black')\n",
        "bx.plot(blind_pred, data_merge[0:N1, 0], '-', label='Predicted', color='r')\n",
        "bx.legend()\n",
        "bx.set_ylim(ztop, zbot)\n",
        "bx.invert_yaxis()\n",
        "#bx.grid()\n",
        "bx.locator_params(axis='x', nbins=5)\n",
        "bx.set_xlabel(\"$V_p$ (Km/s)\")\n",
        "bx.set_ylabel(\"Depth (m)\")\n",
        "#bx.set_xlim(1.5, 3.5)\n",
        "bx.set_xlim(-3, 3)"
      ],
      "metadata": {
        "colab": {
          "base_uri": "https://localhost:8080/",
          "height": 490
        },
        "id": "XGwNGa8TXuEn",
        "outputId": "8d90e4ee-d12a-4a45-9a3f-3e869a14b8fb"
      },
      "execution_count": 60,
      "outputs": [
        {
          "output_type": "stream",
          "name": "stdout",
          "text": [
            "3168.0725 4085.844\n"
          ]
        },
        {
          "output_type": "execute_result",
          "data": {
            "text/plain": [
              "(-3.0, 3.0)"
            ]
          },
          "metadata": {},
          "execution_count": 60
        },
        {
          "output_type": "display_data",
          "data": {
            "text/plain": [
              "<Figure size 640x480 with 1 Axes>"
            ],
            "image/png": "[encoded data removed]"
          },
          "metadata": {}
        }
      ]
    },
    {
      "cell_type": "code",
      "source": [
        "##import csv\n",
        "#df = pd.DataFrame(X_train)\n",
        "# saving the dataframe\n",
        "#df.to_csv('X_train.csv')"
      ],
      "metadata": {
        "id": "3fQqybnxFUq-"
      },
      "execution_count": 61,
      "outputs": []
    },
    {
      "cell_type": "code",
      "source": [
        "#df1 = pd.DataFrame(y_train)\n",
        "# saving the dataframe\n",
        "#df1.to_csv('y_train.csv')"
      ],
      "metadata": {
        "id": "L96hnp9EFWNY"
      },
      "execution_count": 62,
      "outputs": []
    },
    {
      "cell_type": "markdown",
      "source": [
        "# Random Forest\n",
        "\n"
      ],
      "metadata": {
        "id": "xaPq9lVNFcfN"
      }
    },
    {
      "cell_type": "code",
      "source": [
        "estimator = RandomForestRegressor(max_depth=6, min_samples_split=5, bootstrap=True, min_samples_leaf=1,\n",
        "                                  max_features='sqrt', n_estimators=2000)\n",
        "\n",
        "estimator.fit(X_train, y_train)\n",
        "y_test_pred = estimator.predict(X_test)\n",
        "y_blind_pred = estimator.predict(X_blind)"
      ],
      "metadata": {
        "id": "nHTk-TtdG4Ah"
      },
      "execution_count": 63,
      "outputs": []
    },
    {
      "cell_type": "code",
      "source": [
        "r2_score(y_test_pred, y_test)"
      ],
      "metadata": {
        "colab": {
          "base_uri": "https://localhost:8080/"
        },
        "id": "wKzpRUUCLOqA",
        "outputId": "468935ef-535f-4643-d110-e01abcf730b6"
      },
      "execution_count": 64,
      "outputs": [
        {
          "output_type": "execute_result",
          "data": {
            "text/plain": [
              "0.9144877219871363"
            ]
          },
          "metadata": {},
          "execution_count": 64
        }
      ]
    },
    {
      "cell_type": "code",
      "source": [
        "BlindR2Value = r2_score(y_blind, y_blind_pred)\n",
        "print(\"Training Set R-Square=\", BlindR2Value)"
      ],
      "metadata": {
        "colab": {
          "base_uri": "https://localhost:8080/"
        },
        "id": "TuHrdnmvY6GI",
        "outputId": "72f1b3ef-988e-40c6-d2df-dbde94756a20"
      },
      "execution_count": 65,
      "outputs": [
        {
          "output_type": "stream",
          "name": "stdout",
          "text": [
            "Training Set R-Square= 0.8547912438825979\n"
          ]
        }
      ]
    },
    {
      "cell_type": "code",
      "source": [
        "blind_real = y_blind\n",
        "blind_pred = y_blind_pred"
      ],
      "metadata": {
        "id": "t7BzzQ9RY6Ly"
      },
      "execution_count": 66,
      "outputs": []
    },
    {
      "cell_type": "markdown",
      "source": [],
      "metadata": {
        "id": "31Oqg6l5L_Hg"
      }
    },
    {
      "cell_type": "code",
      "source": [
        "r2_score(y_blind, y_blind_pred)"
      ],
      "metadata": {
        "colab": {
          "base_uri": "https://localhost:8080/"
        },
        "id": "heHfg6_-ZPis",
        "outputId": "e5b87ff6-dbcf-4c6c-f452-ef254e30e957"
      },
      "execution_count": 67,
      "outputs": [
        {
          "output_type": "execute_result",
          "data": {
            "text/plain": [
              "0.8547912438825979"
            ]
          },
          "metadata": {},
          "execution_count": 67
        }
      ]
    },
    {
      "cell_type": "code",
      "source": [
        "ztop = np.min(data_merge[0:N1, 0]) - 2.0\n",
        "zbot = np.max(data_merge[0:N1, 0])\n",
        "print(ztop, zbot)\n",
        "f, bx = plt.subplots(nrows=1, ncols=1)\n",
        "bx.plot(blind_real, data_merge[0:N1, 0], '-', label='Measured', color='black')\n",
        "bx.plot(blind_pred, data_merge[0:N1, 0], '-', label='Predicted', color='r')\n",
        "bx.legend()\n",
        "bx.set_ylim(ztop, zbot)\n",
        "bx.invert_yaxis()\n",
        "#bx.grid()\n",
        "bx.locator_params(axis='x', nbins=5)\n",
        "bx.set_xlabel(\"$V_p$ (Km/s)\")\n",
        "bx.set_ylabel(\"Depth (m)\")\n",
        "#bx.set_xlim(1.5, 3.5)\n",
        "bx.set_xlim(1.5, 6)"
      ],
      "metadata": {
        "id": "Yc6rx9NCNPxf",
        "colab": {
          "base_uri": "https://localhost:8080/",
          "height": 495
        },
        "outputId": "6db4ad23-0ec8-418d-e7c1-e94531c704a8"
      },
      "execution_count": 68,
      "outputs": [
        {
          "output_type": "stream",
          "name": "stdout",
          "text": [
            "3498.9326 4085.844\n"
          ]
        },
        {
          "output_type": "execute_result",
          "data": {
            "text/plain": [
              "(1.5, 6.0)"
            ]
          },
          "metadata": {},
          "execution_count": 68
        },
        {
          "output_type": "display_data",
          "data": {
            "text/plain": [
              "<Figure size 640x480 with 1 Axes>"
            ],
            "image/png": "[encoded data removed]"
          },
          "metadata": {}
        }
      ]
    },
    {
      "cell_type": "markdown",
      "source": [
        "# Decision Tree"
      ],
      "metadata": {
        "id": "i9bNvd3PIfvG"
      }
    },
    {
      "cell_type": "code",
      "source": [],
      "metadata": {
        "id": "CuHWAC8SIjBA"
      },
      "execution_count": 68,
      "outputs": []
    },
    {
      "cell_type": "markdown",
      "source": [
        "# Multi-Layer Perceptron"
      ],
      "metadata": {
        "id": "dzWYeaFvIjrs"
      }
    },
    {
      "cell_type": "code",
      "source": [],
      "metadata": {
        "id": "WgTHayNbMrKW"
      },
      "execution_count": 68,
      "outputs": []
    },
    {
      "cell_type": "markdown",
      "source": [
        "# Discussion\n",
        "\n",
        "By looking at the 4 different algorithms we can observe that..."
      ],
      "metadata": {
        "id": "XXsgX6VIMraf"
      }
    }
  ]
}