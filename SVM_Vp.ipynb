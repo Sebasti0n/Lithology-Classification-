{
 "cells": [
  {
   "cell_type": "code",
   "execution_count": 1,
   "metadata": {},
   "outputs": [],
   "source": [
    "# this program is aming at evaluating the result with correlation coefficient\n",
    "import pandas as pd\n",
    "import numpy as np\n",
    "import matplotlib as mpl\n",
    "import matplotlib.pyplot as plt\n",
    "from sklearn.ensemble import RandomForestRegressor\n",
    "from sklearn import svm\n",
    "from sklearn import preprocessing"
   ]
  },
  {
   "cell_type": "code",
   "execution_count": 2,
   "metadata": {},
   "outputs": [
    {
     "name": "stdout",
     "output_type": "stream",
     "text": [
      "4057 1930\n",
      "The merged data shape is: (9894, 10)\n",
      "(5837, 6)\n",
      "(4961, 6) (876, 6) (4961,) (876,)\n"
     ]
    }
   ],
   "source": [
    "#wells = ['19A', 'BT2', 'SR', 'F1B']\n",
    "wells = ['BT2','19A', 'SR', 'F1B']\n",
    "#wells = ['SR', '19A', 'BT2', 'F1B']\n",
    "#wells = ['F1B','19A', 'BT2', 'SR']\n",
    "\n",
    "well_path = './'\n",
    "data_all = []\n",
    "for well in wells:\n",
    "    data_tmp = np.load(well_path + well + '.npy')\n",
    "    data_all.append(data_tmp)\n",
    "idx1 = 0  # use 19A as the blind test\n",
    "idx2 = 1\n",
    "N1 = len(data_all[idx1])\n",
    "N2 = len(data_all[idx2])\n",
    "print(N1, N2)\n",
    "blind_ori = data_all[idx1]\n",
    "\n",
    "data_merge =np.concatenate((data_all[0], data_all[1], data_all[2], data_all[3]), axis=0)  # Merge all well data together\n",
    "print('The merged data shape is:', data_merge.shape)\n",
    "\n",
    "features = data_merge[N1:, 1:7]\n",
    "label_norm = data_merge[N1:, 7]\n",
    "print(features.shape)\n",
    "\n",
    "from sklearn.model_selection import train_test_split\n",
    "\n",
    "X_train, X_test, y_train, y_test = train_test_split(features, label_norm, test_size=0.15, random_state=42)\n",
    "print(X_train.shape, X_test.shape, y_train.shape, y_test.shape)\n",
    "\n",
    "X_blind = data_merge[0:N1, 1:7]\n",
    "y_blind = data_merge[0:N1, 7]\n",
    "X_train_well = data_merge[N1:N1+N2, 1:7]\n",
    "y_train_well = data_merge[N1:N1+N2, 7]"
   ]
  },
  {
   "cell_type": "code",
   "execution_count": 3,
   "metadata": {},
   "outputs": [
    {
     "name": "stdout",
     "output_type": "stream",
     "text": [
      "(4057, 6) (1930, 6) (1930,) (4057,)\n"
     ]
    }
   ],
   "source": [
    "print(X_blind.shape, X_train_well.shape, y_train_well.shape, y_blind.shape)"
   ]
  },
  {
   "cell_type": "code",
   "execution_count": 4,
   "metadata": {},
   "outputs": [],
   "source": [
    "#from sklearn.svm import SVR\n",
    "#from sklearn.model_selection import GridSearchCV\n",
    "#parameters = {'kernel': ('linear', 'rbf','poly'), 'C':[1.5, 100],'gamma': [1e-7, 1e-4],'epsilon':[0.1,0.2,0.5,0.3]}\n",
    "#parameters = {'kernel': ('linear','rbf'), 'C':[1.5, 10],'gamma': [1e-7, 1e-4],'epsilon':[0.1,0.2,0.5,0.3]}\n",
    "#svr = svm.SVR()\n",
    "#clf = GridSearchCV(svr, parameters)\n",
    "#clf.fit(X_train, y_train)\n",
    "#clf.best_params_"
   ]
  },
  {
   "cell_type": "code",
   "execution_count": 5,
   "metadata": {},
   "outputs": [],
   "source": [
    "from sklearn.svm import SVR\n",
    "estimator = svm.SVR(kernel='rbf', C=1000.0, epsilon = 0.0001, gamma = 0.0001 )\n",
    "#estimator = svm.SVR(shrinking=True, kernel='poly',gamma=0.01, epsilon=1,degree=5, C=10.)\n",
    "estimator.fit(X_train, y_train)\n",
    "y_test_pred = estimator.predict(X_test)\n",
    "y_blind_pred = estimator.predict(X_blind)"
   ]
  },
  {
   "cell_type": "code",
   "execution_count": 6,
   "metadata": {},
   "outputs": [
    {
     "data": {
      "text/plain": [
       "0.7910131040769609"
      ]
     },
     "execution_count": 6,
     "metadata": {},
     "output_type": "execute_result"
    }
   ],
   "source": [
    "from sklearn.metrics import r2_score\n",
    "r2_score(y_test_pred, y_test)"
   ]
  },
  {
   "cell_type": "code",
   "execution_count": 7,
   "metadata": {},
   "outputs": [],
   "source": [
    "blind_real = y_blind \n",
    "blind_pred = y_blind_pred"
   ]
  },
  {
   "cell_type": "code",
   "execution_count": 8,
   "metadata": {},
   "outputs": [
    {
     "data": {
      "text/plain": [
       "2.3098801181312707"
      ]
     },
     "execution_count": 8,
     "metadata": {},
     "output_type": "execute_result"
    }
   ],
   "source": [
    "min(label_norm)"
   ]
  },
  {
   "cell_type": "code",
   "execution_count": 9,
   "metadata": {},
   "outputs": [
    {
     "data": {
      "text/plain": [
       "2.3839841318011596"
      ]
     },
     "execution_count": 9,
     "metadata": {},
     "output_type": "execute_result"
    }
   ],
   "source": [
    "min(y_blind)"
   ]
  },
  {
   "cell_type": "code",
   "execution_count": 10,
   "metadata": {},
   "outputs": [
    {
     "data": {
      "text/plain": [
       "2.3839841318011596"
      ]
     },
     "execution_count": 10,
     "metadata": {},
     "output_type": "execute_result"
    }
   ],
   "source": [
    "min(blind_real)"
   ]
  },
  {
   "cell_type": "code",
   "execution_count": 11,
   "metadata": {},
   "outputs": [
    {
     "data": {
      "text/plain": [
       "0.8423902340405619"
      ]
     },
     "execution_count": 11,
     "metadata": {},
     "output_type": "execute_result"
    }
   ],
   "source": [
    "from sklearn.metrics import r2_score\n",
    "r2_score(y_blind, y_blind_pred)"
   ]
  },
  {
   "cell_type": "code",
   "execution_count": 12,
   "metadata": {},
   "outputs": [
    {
     "name": "stdout",
     "output_type": "stream",
     "text": [
      "3168.0725 4219.3467\n"
     ]
    },
    {
     "data": {
      "text/plain": [
       "(1.5, 6)"
      ]
     },
     "execution_count": 12,
     "metadata": {},
     "output_type": "execute_result"
    },
    {
     "data": {
      "image/png": "[encoded data removed]",
      "text/plain": [
       "<Figure size 432x288 with 1 Axes>"
      ]
     },
     "metadata": {
      "needs_background": "light"
     },
     "output_type": "display_data"
    }
   ],
   "source": [
    "ztop = np.min(data_merge[0:N1, 0]) - 2.0\n",
    "zbot = np.max(data_merge[0:N1, 0])\n",
    "print(ztop, zbot)\n",
    "f, bx = plt.subplots(nrows=1, ncols=1)\n",
    "bx.plot(blind_real, data_merge[0:N1, 0], '-', label='Measured', color='black')\n",
    "bx.plot(blind_pred, data_merge[0:N1, 0], '-', label='Predicted', color='r')\n",
    "bx.legend()\n",
    "bx.set_ylim(ztop, zbot)\n",
    "bx.invert_yaxis()\n",
    "#bx.grid()\n",
    "bx.locator_params(axis='x', nbins=5)\n",
    "bx.set_xlabel(\"$V_p$ (Km/s)\")\n",
    "bx.set_ylabel(\"Depth (m)\")\n",
    "#bx.set_xlim(1.5, 3.5)\n",
    "bx.set_xlim(1.5, 6)"
   ]
  },
  {
   "cell_type": "code",
   "execution_count": 13,
   "metadata": {},
   "outputs": [],
   "source": [
    "##import csv\n",
    "#df = pd.DataFrame(X_train) \n",
    "# saving the dataframe \n",
    "#df.to_csv('X_train.csv') "
   ]
  },
  {
   "cell_type": "code",
   "execution_count": 14,
   "metadata": {},
   "outputs": [],
   "source": [
    "#df1 = pd.DataFrame(y_train) \n",
    "# saving the dataframe \n",
    "#df1.to_csv('y_train.csv') "
   ]
  },
  {
   "cell_type": "code",
   "execution_count": null,
   "metadata": {},
   "outputs": [],
   "source": []
  }
 ],
 "metadata": {
  "kernelspec": {
   "display_name": "Python 3",
   "language": "python",
   "name": "python3"
  },
  "language_info": {
   "codemirror_mode": {
    "name": "ipython",
    "version": 3
   },
   "file_extension": ".py",
   "mimetype": "text/x-python",
   "name": "python",
   "nbconvert_exporter": "python",
   "pygments_lexer": "ipython3",
   "version": "3.7.4"
  }
 },
 "nbformat": 4,
 "nbformat_minor": 2
}
