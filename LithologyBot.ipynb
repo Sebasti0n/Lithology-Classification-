{
 "cells": [
  {
   "cell_type": "code",
   "execution_count": null,
   "metadata": {},
   "outputs": [],
   "source": [
    "#importing libraries \n",
    "import pandas as pd \n",
    "import numpy as np \n",
    "import matplotlib as mpl \n",
    "import matplotlib.pyplot as plt\n",
    "\n",
    "#importing components \n",
    "from sklearn.ensemble import RandomForestRegressor \n",
    "from sklearn import svm \n",
    "from sklearn import preprocessing \n",
    "\n",
    "#tensor flow  \n",
    "from keras import Sequential \n",
    "from keras.layers import Dense, LSTM "
   ]
  }
 ],
 "metadata": {
  "language_info": {
   "name": "python"
  }
 },
 "nbformat": 4,
 "nbformat_minor": 2
}
