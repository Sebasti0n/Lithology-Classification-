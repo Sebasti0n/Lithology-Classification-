{
 "cells": [
  {
   "cell_type": "code",
   "execution_count": 1,
   "metadata": {},
   "outputs": [],
   "source": [
    "# this program is aming at evaluating the result with correlation coefficient\n",
    "import pandas as pd\n",
    "import numpy as np\n",
    "import matplotlib as mpl\n",
    "import matplotlib.pyplot as plt\n",
    "from sklearn.ensemble import RandomForestRegressor\n",
    "from sklearn.ensemble import GradientBoostingRegressor\n",
    "from sklearn import svm\n",
    "from sklearn import preprocessing"
   ]
  },
  {
   "cell_type": "code",
   "execution_count": 2,
   "metadata": {},
   "outputs": [
    {
     "name": "stdout",
     "output_type": "stream",
     "text": [
      "4057 1930\n",
      "The merged data shape is: (9894, 10)\n",
      "(5837, 6)\n",
      "(4961, 6) (876, 6) (4961,) (876,)\n"
     ]
    }
   ],
   "source": [
    "#wells = ['19A', 'BT2', 'SR', 'F1B']\n",
    "wells = ['BT2','19A', 'SR', 'F1B']\n",
    "#wells = ['SR', '19A', 'BT2', 'F1B']\n",
    "#wells = ['F1B','19A', 'BT2', 'SR']\n",
    "\n",
    "well_path = './'\n",
    "data_all = []\n",
    "for well in wells:\n",
    "    data_tmp = np.load(well_path + well + '.npy')\n",
    "    data_all.append(data_tmp)\n",
    "idx1 = 0  # use 19A as the blind test\n",
    "idx2 = 1\n",
    "N1 = len(data_all[idx1])\n",
    "N2 = len(data_all[idx2])\n",
    "print(N1, N2)\n",
    "blind_ori = data_all[idx1]\n",
    "\n",
    "data_merge =np.concatenate((data_all[0], data_all[1], data_all[2], data_all[3]), axis=0)  # Merge all well data together\n",
    "print('The merged data shape is:', data_merge.shape)\n",
    "\n",
    "features = data_merge[N1:, 1:7]\n",
    "label_norm = data_merge[N1:, 7]\n",
    "print(features.shape)\n",
    "\n",
    "from sklearn.model_selection import train_test_split\n",
    "\n",
    "X_train, X_test, y_train, y_test = train_test_split(features, label_norm, test_size=0.15, random_state=42)\n",
    "print(X_train.shape, X_test.shape, y_train.shape, y_test.shape)\n",
    "\n",
    "X_blind = data_merge[0:N1, 1:7]\n",
    "y_blind = data_merge[0:N1, 7]\n",
    "X_train_well = data_merge[N1:N1+N2, 1:7]\n",
    "y_train_well = data_merge[N1:N1+N2, 7]"
   ]
  },
  {
   "cell_type": "code",
   "execution_count": 3,
   "metadata": {},
   "outputs": [],
   "source": [
    "params = {'n_estimators': 500, 'max_depth': 4, 'min_samples_split': 2,\n",
    "          'learning_rate': 0.01, 'loss': 'ls'}\n",
    "estimator = GradientBoostingRegressor(**params)\n",
    "\n",
    "estimator.fit(X_train, y_train)\n",
    "y_test_pred = estimator.predict(X_test)\n",
    "y_blind_pred = estimator.predict(X_blind)"
   ]
  },
  {
   "cell_type": "code",
   "execution_count": 4,
   "metadata": {},
   "outputs": [
    {
     "data": {
      "text/plain": [
       "0.9190441322527709"
      ]
     },
     "execution_count": 4,
     "metadata": {},
     "output_type": "execute_result"
    }
   ],
   "source": [
    "from sklearn.metrics import r2_score\n",
    "r2_score(y_test_pred, y_test)"
   ]
  },
  {
   "cell_type": "code",
   "execution_count": 5,
   "metadata": {},
   "outputs": [
    {
     "data": {
      "text/plain": [
       "0.9394801059131442"
      ]
     },
     "execution_count": 5,
     "metadata": {},
     "output_type": "execute_result"
    }
   ],
   "source": [
    "y_train_pred = estimator.predict(X_train)\n",
    "r2_score(y_train_pred, y_train)"
   ]
  },
  {
   "cell_type": "code",
   "execution_count": 6,
   "metadata": {},
   "outputs": [
    {
     "name": "stdout",
     "output_type": "stream",
     "text": [
      "Training Set R-Square= 0.710683731195259\n"
     ]
    }
   ],
   "source": [
    "#Compute R-Square value for blind set\n",
    "from sklearn.metrics import r2_score\n",
    "BlindR2Value = r2_score(y_blind,y_blind_pred)\n",
    "print(\"Training Set R-Square=\", BlindR2Value)"
   ]
  },
  {
   "cell_type": "code",
   "execution_count": 7,
   "metadata": {},
   "outputs": [
    {
     "name": "stdout",
     "output_type": "stream",
     "text": [
      "RMSE: 0.395785\n"
     ]
    }
   ],
   "source": [
    "from sklearn.metrics import mean_squared_error\n",
    "rmse = np.sqrt(mean_squared_error(y_blind,y_blind_pred))\n",
    "print(\"RMSE: %f\" % (rmse))"
   ]
  },
  {
   "cell_type": "code",
   "execution_count": 8,
   "metadata": {},
   "outputs": [
    {
     "name": "stdout",
     "output_type": "stream",
     "text": [
      "RMSE: 0.144300\n"
     ]
    }
   ],
   "source": [
    "from sklearn.metrics import mean_squared_error\n",
    "rmse = np.sqrt(mean_squared_error(y_test,y_test_pred))\n",
    "print(\"RMSE: %f\" % (rmse))"
   ]
  },
  {
   "cell_type": "code",
   "execution_count": 9,
   "metadata": {},
   "outputs": [],
   "source": [
    "blind_real = y_blind \n",
    "blind_pred = y_blind_pred"
   ]
  },
  {
   "cell_type": "code",
   "execution_count": 10,
   "metadata": {},
   "outputs": [
    {
     "name": "stdout",
     "output_type": "stream",
     "text": [
      "3168.0725 4219.3467\n"
     ]
    },
    {
     "data": {
      "text/plain": [
       "(1.5, 6)"
      ]
     },
     "execution_count": 10,
     "metadata": {},
     "output_type": "execute_result"
    },
    {
     "data": {
      "image/png": "[encoded data removed]",
      "text/plain": [
       "<Figure size 432x288 with 1 Axes>"
      ]
     },
     "metadata": {
      "needs_background": "light"
     },
     "output_type": "display_data"
    }
   ],
   "source": [
    "ztop = np.min(data_merge[0:N1, 0]) - 2.0\n",
    "zbot = np.max(data_merge[0:N1, 0])\n",
    "print(ztop, zbot)\n",
    "f, bx = plt.subplots(nrows=1, ncols=1)\n",
    "bx.plot(blind_real, data_merge[0:N1, 0], '-', label='Measured', color='black')\n",
    "bx.plot(blind_pred, data_merge[0:N1, 0], '-', label='Predicted', color='r')\n",
    "bx.legend()\n",
    "bx.set_ylim(ztop, zbot)\n",
    "bx.invert_yaxis()\n",
    "#bx.grid()\n",
    "bx.locator_params(axis='x', nbins=5)\n",
    "bx.set_xlabel(\"$V_p$ (Km/s)\")\n",
    "bx.set_ylabel(\"Depth (m)\")\n",
    "#bx.set_xlim(1.5, 3.5)\n",
    "bx.set_xlim(1.5, 6)"
   ]
  },
  {
   "cell_type": "code",
   "execution_count": 11,
   "metadata": {},
   "outputs": [
    {
     "data": {
      "image/png": "[encoded data removed]",
      "text/plain": [
       "<Figure size 432x288 with 1 Axes>"
      ]
     },
     "metadata": {
      "needs_background": "light"
     },
     "output_type": "display_data"
    }
   ],
   "source": [
    "# #############################################################################\n",
    "# Plot feature importance\n",
    "feature_importance = estimator.feature_importances_\n",
    "# make importances relative to max importance\n",
    "feature_importance = 100.0 * (feature_importance / feature_importance.max())\n",
    "sorted_idx = np.argsort(feature_importance)\n",
    "pos = np.arange(sorted_idx.shape[0]) + .5\n",
    "plt.subplot(1, 2, 2)\n",
    "plt.barh(pos, feature_importance[sorted_idx], align='center')\n",
    "plt.xlabel('Relative Importance')\n",
    "plt.title('Variable Importance')\n",
    "plt.show()"
   ]
  },
  {
   "cell_type": "code",
   "execution_count": null,
   "metadata": {},
   "outputs": [],
   "source": []
  }
 ],
 "metadata": {
  "kernelspec": {
   "display_name": "Python 3",
   "language": "python",
   "name": "python3"
  },
  "language_info": {
   "codemirror_mode": {
    "name": "ipython",
    "version": 3
   },
   "file_extension": ".py",
   "mimetype": "text/x-python",
   "name": "python",
   "nbconvert_exporter": "python",
   "pygments_lexer": "ipython3",
   "version": "3.7.4"
  }
 },
 "nbformat": 4,
 "nbformat_minor": 2
}
